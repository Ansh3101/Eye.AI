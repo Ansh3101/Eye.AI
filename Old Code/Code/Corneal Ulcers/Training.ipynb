{
 "cells": [
  {
   "cell_type": "markdown",
   "id": "3d008897-a2d7-429d-8b90-f1c8ef531669",
   "metadata": {},
   "source": [
    "# Corneal Ulcers Model Training\n",
    "\n",
    "### EfficientNet B4 - 0.96 Validation Accuracy ( 0.2 Validation Loss )"
   ]
  },
  {
   "cell_type": "code",
   "execution_count": null,
   "id": "6afd07e4-9281-4daf-ab19-cd951fd713fa",
   "metadata": {
    "executionInfo": {
     "elapsed": 609,
     "status": "ok",
     "timestamp": 1658509247672,
     "user": {
      "displayName": "Anshuman Tekriwal",
      "userId": "12889760788957717284"
     },
     "user_tz": -330
    },
    "id": "6afd07e4-9281-4daf-ab19-cd951fd713fa"
   },
   "outputs": [],
   "source": [
    "import torch\n",
    "import torchvision\n",
    "import os\n",
    "import cv2\n",
    "import numpy as np\n",
    "from torch import nn\n",
    "from glob import glob\n",
    "import pandas as pd\n",
    "import torch.nn.functional as F"
   ]
  },
  {
   "cell_type": "code",
   "execution_count": null,
   "id": "bb5ad6c9-e38f-411f-8be1-1e1acb28324a",
   "metadata": {
    "executionInfo": {
     "elapsed": 5,
     "status": "ok",
     "timestamp": 1658509247673,
     "user": {
      "displayName": "Anshuman Tekriwal",
      "userId": "12889760788957717284"
     },
     "user_tz": -330
    },
    "id": "bb5ad6c9-e38f-411f-8be1-1e1acb28324a"
   },
   "outputs": [],
   "source": [
    "image_paths = './data/images/*/*'\n",
    "image_paths = glob(image_paths)"
   ]
  },
  {
   "cell_type": "code",
   "execution_count": null,
   "id": "6BbpsxoecheV",
   "metadata": {
    "executionInfo": {
     "elapsed": 5,
     "status": "ok",
     "timestamp": 1658509247673,
     "user": {
      "displayName": "Anshuman Tekriwal",
      "userId": "12889760788957717284"
     },
     "user_tz": -330
    },
    "id": "6BbpsxoecheV"
   },
   "outputs": [],
   "source": [
    "labels = []\n",
    "images = []\n",
    "\n",
    "for image_path in image_paths:\n",
    "    label = image_path.split(os.path.sep)[3]\n",
    "    image = image_path.split(os.path.sep)[4]\n",
    "    labels.append(label)\n",
    "    images.append(image)"
   ]
  },
  {
   "cell_type": "code",
   "execution_count": null,
   "id": "VXziaKEBcih9",
   "metadata": {
    "colab": {
     "base_uri": "https://localhost:8080/"
    },
    "executionInfo": {
     "elapsed": 5,
     "status": "ok",
     "timestamp": 1658509247673,
     "user": {
      "displayName": "Anshuman Tekriwal",
      "userId": "12889760788957717284"
     },
     "user_tz": -330
    },
    "id": "VXziaKEBcih9",
    "outputId": "e0a0ecd7-1f60-483d-e240-9b16088fb44f"
   },
   "outputs": [],
   "source": [
    "np.unique(labels)"
   ]
  },
  {
   "cell_type": "code",
   "execution_count": null,
   "id": "344dNIs1crxa",
   "metadata": {
    "executionInfo": {
     "elapsed": 2,
     "status": "ok",
     "timestamp": 1658509247673,
     "user": {
      "displayName": "Anshuman Tekriwal",
      "userId": "12889760788957717284"
     },
     "user_tz": -330
    },
    "id": "344dNIs1crxa"
   },
   "outputs": [],
   "source": [
    "labels = np.array(labels, dtype='str')\n",
    "label2pred = dict(zip(np.unique(labels), range(0, 3)))\n",
    "pred2label = dict(zip(range(0, 3), np.unique(labels)))\n",
    "n_classes = len(np.unique(labels))"
   ]
  },
  {
   "cell_type": "code",
   "execution_count": null,
   "id": "b3cbfe0a-88e2-407f-9d78-c96babaa91fb",
   "metadata": {
    "executionInfo": {
     "elapsed": 2,
     "status": "ok",
     "timestamp": 1658509247673,
     "user": {
      "displayName": "Anshuman Tekriwal",
      "userId": "12889760788957717284"
     },
     "user_tz": -330
    },
    "id": "b3cbfe0a-88e2-407f-9d78-c96babaa91fb"
   },
   "outputs": [],
   "source": [
    "class CornealUlcers(torch.utils.data.Dataset):\n",
    "    \n",
    "    def __init__(self, image_paths, labels, transforms=None):\n",
    "        super(CornealUlcers, self).__init__()\n",
    "        \n",
    "        self.image_paths = image_paths\n",
    "        self.labels = labels\n",
    "        self.transforms = transforms\n",
    "        \n",
    "    def __len__(self):\n",
    "        return len(self.image_paths)\n",
    "    \n",
    "    def __getitem__(self, idx):\n",
    "        \n",
    "        image = cv2.imread(self.image_paths[idx])\n",
    "        image = cv2.cvtColor(image, cv2.COLOR_BGR2RGB)\n",
    "        image = cv2.resize(image, (400, 400))\n",
    "            \n",
    "        label = self.labels[idx]\n",
    "        label = label2pred[label]\n",
    "        label = torch.tensor(label)\n",
    "        \n",
    "        if self.transforms:\n",
    "            image = self.transforms(image)\n",
    "        \n",
    "        return image, label        "
   ]
  },
  {
   "cell_type": "code",
   "execution_count": null,
   "id": "f3acb134-9f1f-4d7c-8a6f-b72b64574ee1",
   "metadata": {
    "executionInfo": {
     "elapsed": 9,
     "status": "ok",
     "timestamp": 1658509248442,
     "user": {
      "displayName": "Anshuman Tekriwal",
      "userId": "12889760788957717284"
     },
     "user_tz": -330
    },
    "id": "f3acb134-9f1f-4d7c-8a6f-b72b64574ee1"
   },
   "outputs": [],
   "source": [
    "device='cpu'"
   ]
  },
  {
   "cell_type": "code",
   "execution_count": null,
   "id": "326e803a-28e0-4a27-a72b-4c59d051752f",
   "metadata": {
    "executionInfo": {
     "elapsed": 7,
     "status": "ok",
     "timestamp": 1658509248442,
     "user": {
      "displayName": "Anshuman Tekriwal",
      "userId": "12889760788957717284"
     },
     "user_tz": -330
    },
    "id": "326e803a-28e0-4a27-a72b-4c59d051752f"
   },
   "outputs": [],
   "source": [
    "from sklearn.model_selection import train_test_split\n",
    "\n",
    "train_image_paths, test_image_paths, train_labels, test_labels = train_test_split(image_paths, labels, test_size=0.2, shuffle=True, stratify=labels)"
   ]
  },
  {
   "cell_type": "code",
   "execution_count": null,
   "id": "e590dd05-e17e-480b-999b-48eb6bb7c77b",
   "metadata": {
    "executionInfo": {
     "elapsed": 7,
     "status": "ok",
     "timestamp": 1658509248443,
     "user": {
      "displayName": "Anshuman Tekriwal",
      "userId": "12889760788957717284"
     },
     "user_tz": -330
    },
    "id": "e590dd05-e17e-480b-999b-48eb6bb7c77b"
   },
   "outputs": [],
   "source": [
    "tr_transforms = torchvision.transforms.Compose([\n",
    "    torchvision.transforms.ToTensor(),\n",
    "#    torchvision.transforms.RandomHorizontalFlip(),\n",
    "#    torchvision.transforms.RandomRotation(60),\n",
    "#    torchvision.transforms.RandomVerticalFlip(),\n",
    "    torchvision.transforms.CenterCrop(380),\n",
    "])\n",
    "\n",
    "val_transforms = torchvision.transforms.Compose([\n",
    "    torchvision.transforms.ToTensor(),\n",
    "    torchvision.transforms.CenterCrop(380),\n",
    "])"
   ]
  },
  {
   "cell_type": "code",
   "execution_count": null,
   "id": "2272cc95-3d50-41c0-8548-c9ab249982f0",
   "metadata": {
    "executionInfo": {
     "elapsed": 7,
     "status": "ok",
     "timestamp": 1658509248443,
     "user": {
      "displayName": "Anshuman Tekriwal",
      "userId": "12889760788957717284"
     },
     "user_tz": -330
    },
    "id": "2272cc95-3d50-41c0-8548-c9ab249982f0"
   },
   "outputs": [],
   "source": [
    "train_dataset = CornealUlcers(image_paths=train_image_paths, labels=train_labels, transforms=tr_transforms)\n",
    "test_dataset = CornealUlcers(image_paths=test_image_paths, labels=test_labels, transforms=val_transforms)"
   ]
  },
  {
   "cell_type": "code",
   "execution_count": null,
   "id": "b9668730-b006-4519-beaa-7032582ae71d",
   "metadata": {
    "colab": {
     "base_uri": "https://localhost:8080/"
    },
    "executionInfo": {
     "elapsed": 7,
     "status": "ok",
     "timestamp": 1658509248443,
     "user": {
      "displayName": "Anshuman Tekriwal",
      "userId": "12889760788957717284"
     },
     "user_tz": -330
    },
    "id": "b9668730-b006-4519-beaa-7032582ae71d",
    "outputId": "c99e9560-b5b3-4f95-cbd3-e104500c6129"
   },
   "outputs": [],
   "source": [
    "len(train_dataset)"
   ]
  },
  {
   "cell_type": "code",
   "execution_count": null,
   "id": "39bacf49-7827-4da9-8521-d8705c36a8c3",
   "metadata": {
    "executionInfo": {
     "elapsed": 5,
     "status": "ok",
     "timestamp": 1658509248444,
     "user": {
      "displayName": "Anshuman Tekriwal",
      "userId": "12889760788957717284"
     },
     "user_tz": -330
    },
    "id": "39bacf49-7827-4da9-8521-d8705c36a8c3"
   },
   "outputs": [],
   "source": [
    "train_dataloader = torch.utils.data.DataLoader(dataset=train_dataset, batch_size=20, shuffle=True)\n",
    "test_dataloader = torch.utils.data.DataLoader(dataset=test_dataset, batch_size=20, shuffle=False)"
   ]
  },
  {
   "cell_type": "code",
   "execution_count": null,
   "id": "c98d62f8-17b8-4ab6-b0f5-a0ee39cd129a",
   "metadata": {
    "colab": {
     "base_uri": "https://localhost:8080/",
     "height": 287
    },
    "executionInfo": {
     "elapsed": 1584,
     "status": "ok",
     "timestamp": 1658509250023,
     "user": {
      "displayName": "Anshuman Tekriwal",
      "userId": "12889760788957717284"
     },
     "user_tz": -330
    },
    "id": "c98d62f8-17b8-4ab6-b0f5-a0ee39cd129a",
    "outputId": "b8505972-e152-465d-8c43-949330179b15"
   },
   "outputs": [],
   "source": [
    "import matplotlib.pyplot as plt\n",
    "\n",
    "plt.imshow(train_dataset[10][0].permute(1, 2, 0))\n",
    "print(pred2label[train_dataset[10][1].item()])"
   ]
  },
  {
   "cell_type": "code",
   "execution_count": null,
   "id": "ed802823-8356-4438-ab41-a0537e3e4bf4",
   "metadata": {
    "executionInfo": {
     "elapsed": 7,
     "status": "ok",
     "timestamp": 1658509250023,
     "user": {
      "displayName": "Anshuman Tekriwal",
      "userId": "12889760788957717284"
     },
     "user_tz": -330
    },
    "id": "ed802823-8356-4438-ab41-a0537e3e4bf4"
   },
   "outputs": [],
   "source": [
    "class ClassificationBase(nn.Module):\n",
    "    def training_step(self, batch):\n",
    "        images, labels = batch\n",
    "        images = images.to(device)\n",
    "        labels = labels.to(device)\n",
    "        out = self(images)\n",
    "        loss = F.cross_entropy(out, labels)\n",
    "        acc = accuracy(out, labels)          \n",
    "        return loss, acc\n",
    "\n",
    "    def validation_step(self, batch):\n",
    "        images, labels = batch \n",
    "        images = images.to(device)\n",
    "        labels = labels.to(device)\n",
    "        out = self(images)                    \n",
    "        loss = F.cross_entropy(out, labels) \n",
    "        acc = accuracy(out, labels)          \n",
    "        return {'val_loss': loss.detach(), 'val_acc': acc}\n",
    "        \n",
    "    def validation_epoch_end(self, outputs):\n",
    "        batch_losses = [x['val_loss'] for x in outputs]\n",
    "        epoch_loss = torch.stack(batch_losses).mean()   \n",
    "        batch_accs = [x['val_acc'] for x in outputs]\n",
    "        epoch_acc = torch.stack(batch_accs).mean()    \n",
    "        return {'val_loss': epoch_loss.item(), 'val_acc': epoch_acc.item()}\n",
    "    \n",
    "    def epoch_end(self, epoch, result):\n",
    "        print(\"Epoch [{}], val_loss: {:.4f}, val_acc: {:.4f}\\n\".format(epoch, result['val_loss'], result['val_acc']))\n",
    "        \n",
    "\n",
    "def accuracy(outputs, labels):\n",
    "    _, preds = torch.max(outputs, dim=1)\n",
    "    return torch.tensor(torch.sum(preds == labels).item() / len(preds))\n",
    "\n",
    "def evaluate(model, val_loader):\n",
    "    outputs = [model.validation_step(batch) for batch in val_loader]\n",
    "    return model.validation_epoch_end(outputs)"
   ]
  },
  {
   "cell_type": "code",
   "execution_count": null,
   "id": "2vkyC97ABB5p",
   "metadata": {
    "colab": {
     "base_uri": "https://localhost:8080/"
    },
    "executionInfo": {
     "elapsed": 743,
     "status": "ok",
     "timestamp": 1658509250761,
     "user": {
      "displayName": "Anshuman Tekriwal",
      "userId": "12889760788957717284"
     },
     "user_tz": -330
    },
    "id": "2vkyC97ABB5p",
    "outputId": "e3d6dba9-eafd-43b5-a250-1ddb29eae112"
   },
   "outputs": [],
   "source": [
    "torchvision.models.efficientnet_b4().classifier"
   ]
  },
  {
   "cell_type": "code",
   "execution_count": null,
   "id": "9dc0645d-54fb-4af1-bd38-ba0e2d3be6a7",
   "metadata": {
    "colab": {
     "base_uri": "https://localhost:8080/"
    },
    "executionInfo": {
     "elapsed": 15,
     "status": "ok",
     "timestamp": 1658509250761,
     "user": {
      "displayName": "Anshuman Tekriwal",
      "userId": "12889760788957717284"
     },
     "user_tz": -330
    },
    "id": "9dc0645d-54fb-4af1-bd38-ba0e2d3be6a7",
    "outputId": "f9a2cc8e-3f6c-402c-c086-b4ef6baa183a"
   },
   "outputs": [],
   "source": [
    "class EfficientNet(ClassificationBase):\n",
    "    \n",
    "    def __init__(self):\n",
    "        super().__init__()\n",
    "        \n",
    "        self.network = torchvision.models.efficientnet_b4(weights = True)\n",
    "        num_ftrs = self.network.classifier\n",
    "        self.network.classifier = nn.Sequential(nn.Dropout(0.3), nn.Linear(1792, n_classes))\n",
    "        \n",
    "    def forward(self, batch):\n",
    "        batch = batch.to(device)\n",
    "        return self.network(batch)\n",
    "        \n",
    "        \n",
    "        \n",
    "model = EfficientNet()     "
   ]
  },
  {
   "cell_type": "code",
   "execution_count": null,
   "id": "0496e7b0-7aa2-49a0-8009-72be4d60280c",
   "metadata": {
    "executionInfo": {
     "elapsed": 4,
     "status": "ok",
     "timestamp": 1658510302665,
     "user": {
      "displayName": "Anshuman Tekriwal",
      "userId": "12889760788957717284"
     },
     "user_tz": -330
    },
    "id": "0496e7b0-7aa2-49a0-8009-72be4d60280c"
   },
   "outputs": [],
   "source": [
    "def fit(epochs, model, train_loader, val_loader, opt_func=torch.optim.Adam):\n",
    "    history = []\n",
    "    optimizer = opt_func(model.parameters(), 1e-5)\n",
    "    for epoch in range(epochs):\n",
    "        lrs = []\n",
    "        loss = 0\n",
    "        acc = 0\n",
    "        for batch in tqdm.tqdm(train_loader):\n",
    "            model.train()\n",
    "            loss, acc = model.training_step(batch)\n",
    "            loss.backward()\n",
    "            optimizer.step()\n",
    "            optimizer.zero_grad()\n",
    "        print(\n",
    "            \"Epoch [{}], loss: {:.4f}, acc: {:.4f}\".format(epoch, loss, acc))\n",
    "        result = evaluate(model, val_loader)\n",
    "        model.epoch_end(epoch, result)\n",
    "        history.append(result)\n",
    "    return history"
   ]
  },
  {
   "cell_type": "code",
   "execution_count": null,
   "id": "52d4735e-87c5-4c86-b61d-0ef5adfbd787",
   "metadata": {
    "executionInfo": {
     "elapsed": 1,
     "status": "ok",
     "timestamp": 1658510249575,
     "user": {
      "displayName": "Anshuman Tekriwal",
      "userId": "12889760788957717284"
     },
     "user_tz": -330
    },
    "id": "52d4735e-87c5-4c86-b61d-0ef5adfbd787"
   },
   "outputs": [],
   "source": [
    "model = model.to(device)"
   ]
  },
  {
   "cell_type": "code",
   "execution_count": null,
   "id": "14c2d6d9-c43a-45c5-aa9c-8a2affe3c103",
   "metadata": {
    "colab": {
     "base_uri": "https://localhost:8080/"
    },
    "executionInfo": {
     "elapsed": 9934,
     "status": "ok",
     "timestamp": 1658510882551,
     "user": {
      "displayName": "Anshuman Tekriwal",
      "userId": "12889760788957717284"
     },
     "user_tz": -330
    },
    "id": "14c2d6d9-c43a-45c5-aa9c-8a2affe3c103",
    "outputId": "c034cfa3-6017-4ce0-d32f-62ec7bd86ae2"
   },
   "outputs": [],
   "source": [
    "evaluate(model, test_dataloader)"
   ]
  },
  {
   "cell_type": "code",
   "execution_count": null,
   "id": "38913ea4-ac5d-4880-ab3d-2107ee40ac7a",
   "metadata": {
    "colab": {
     "base_uri": "https://localhost:8080/"
    },
    "executionInfo": {
     "elapsed": 291739,
     "status": "ok",
     "timestamp": 1658510596262,
     "user": {
      "displayName": "Anshuman Tekriwal",
      "userId": "12889760788957717284"
     },
     "user_tz": -330
    },
    "id": "38913ea4-ac5d-4880-ab3d-2107ee40ac7a",
    "outputId": "ad3c3367-d8f3-40f0-dd15-0bb2d051c01b"
   },
   "outputs": [],
   "source": [
    "import tqdm\n",
    "model.train()\n",
    "history = fit(50, model, train_dataloader, test_dataloader)"
   ]
  },
  {
   "cell_type": "code",
   "execution_count": null,
   "id": "BR_uQXiSUa8X",
   "metadata": {
    "colab": {
     "base_uri": "https://localhost:8080/"
    },
    "executionInfo": {
     "elapsed": 9494,
     "status": "ok",
     "timestamp": 1658510622801,
     "user": {
      "displayName": "Anshuman Tekriwal",
      "userId": "12889760788957717284"
     },
     "user_tz": -330
    },
    "id": "BR_uQXiSUa8X",
    "outputId": "8cad1c99-4c66-49db-bc3a-b7de12a845eb"
   },
   "outputs": [],
   "source": [
    "model.eval()\n",
    "evaluate(model, test_dataloader)\n",
    "#model.train()\n",
    "#10:13:54"
   ]
  },
  {
   "cell_type": "code",
   "execution_count": null,
   "id": "y0XQTn43dWKs",
   "metadata": {
    "executionInfo": {
     "elapsed": 1208,
     "status": "ok",
     "timestamp": 1658510831050,
     "user": {
      "displayName": "Anshuman Tekriwal",
      "userId": "12889760788957717284"
     },
     "user_tz": -330
    },
    "id": "y0XQTn43dWKs"
   },
   "outputs": [],
   "source": [
    "torch.save(model.state_dict(), 'EfficientNet-0.97.pth')"
   ]
  },
  {
   "cell_type": "code",
   "execution_count": null,
   "id": "D8uJwihuekO0",
   "metadata": {
    "executionInfo": {
     "elapsed": 569,
     "status": "ok",
     "timestamp": 1658510898970,
     "user": {
      "displayName": "Anshuman Tekriwal",
      "userId": "12889760788957717284"
     },
     "user_tz": -330
    },
    "id": "D8uJwihuekO0"
   },
   "outputs": [],
   "source": [
    "losses = []\n",
    "accs = []\n",
    "for i in range(len(history)):\n",
    "  losses.append(history[i]['val_loss'])\n",
    "  accs.append(history[i]['val_acc'])"
   ]
  },
  {
   "cell_type": "code",
   "execution_count": null,
   "id": "asWGzk2AemU_",
   "metadata": {
    "colab": {
     "base_uri": "https://localhost:8080/",
     "height": 283
    },
    "executionInfo": {
     "elapsed": 620,
     "status": "ok",
     "timestamp": 1658510900344,
     "user": {
      "displayName": "Anshuman Tekriwal",
      "userId": "12889760788957717284"
     },
     "user_tz": -330
    },
    "id": "asWGzk2AemU_",
    "outputId": "dc1d19f7-fa53-4b9d-f196-4b65d27adc50"
   },
   "outputs": [],
   "source": [
    "plt.plot(np.linspace(1, 50, 50).astype(int), losses)"
   ]
  },
  {
   "cell_type": "code",
   "execution_count": null,
   "id": "WGXalKsVen5z",
   "metadata": {
    "colab": {
     "base_uri": "https://localhost:8080/",
     "height": 283
    },
    "executionInfo": {
     "elapsed": 631,
     "status": "ok",
     "timestamp": 1658510903097,
     "user": {
      "displayName": "Anshuman Tekriwal",
      "userId": "12889760788957717284"
     },
     "user_tz": -330
    },
    "id": "WGXalKsVen5z",
    "outputId": "623e61a0-d5c6-439a-b136-e8abdcbf4370"
   },
   "outputs": [],
   "source": [
    "plt.plot(np.linspace(1, 50, 50).astype(int), accs)"
   ]
  },
  {
   "cell_type": "code",
   "execution_count": null,
   "id": "fEHbudLTapts",
   "metadata": {
    "colab": {
     "base_uri": "https://localhost:8080/"
    },
    "executionInfo": {
     "elapsed": 2804,
     "status": "ok",
     "timestamp": 1658510226981,
     "user": {
      "displayName": "Anshuman Tekriwal",
      "userId": "12889760788957717284"
     },
     "user_tz": -330
    },
    "id": "fEHbudLTapts",
    "outputId": "d42c4958-0b35-40e2-d12d-73c18be0f507"
   },
   "outputs": [],
   "source": [
    "model.load_state_dict(torch.load('EfficientNet-0.97.pth', map_location=torch.device('cpu')))"
   ]
  },
  {
   "cell_type": "code",
   "execution_count": null,
   "id": "Un8CefZt9B36",
   "metadata": {
    "colab": {
     "base_uri": "https://localhost:8080/",
     "height": 287
    },
    "executionInfo": {
     "elapsed": 1358,
     "status": "ok",
     "timestamp": 1658511008965,
     "user": {
      "displayName": "Anshuman Tekriwal",
      "userId": "12889760788957717284"
     },
     "user_tz": -330
    },
    "id": "Un8CefZt9B36",
    "outputId": "cada55bd-e037-4446-b597-bf680e8f5d5c"
   },
   "outputs": [],
   "source": [
    "image = cv2.imread('./Data/images/flaky/630.jpg')\n",
    "image = cv2.cvtColor(image, cv2.COLOR_BGR2RGB)\n",
    "image = cv2.resize(image, (400, 400))\n",
    "plt.imshow(image)"
   ]
  },
  {
   "cell_type": "code",
   "execution_count": null,
   "id": "8i7ahVgv9GZy",
   "metadata": {
    "executionInfo": {
     "elapsed": 2,
     "status": "ok",
     "timestamp": 1658511009813,
     "user": {
      "displayName": "Anshuman Tekriwal",
      "userId": "12889760788957717284"
     },
     "user_tz": -330
    },
    "id": "8i7ahVgv9GZy"
   },
   "outputs": [],
   "source": [
    "test_transforms = torchvision.transforms.Compose([\n",
    "    torchvision.transforms.ToTensor(),\n",
    "    torchvision.transforms.Resize((380, 380))\n",
    "])\n",
    "\n",
    "image = test_transforms(image)\n",
    "image = torch.reshape(image, (1, 3, 380, 380))"
   ]
  },
  {
   "cell_type": "code",
   "execution_count": null,
   "id": "A8mDs_bM9UD0",
   "metadata": {
    "colab": {
     "base_uri": "https://localhost:8080/",
     "height": 36
    },
    "executionInfo": {
     "elapsed": 21,
     "status": "ok",
     "timestamp": 1658511019173,
     "user": {
      "displayName": "Anshuman Tekriwal",
      "userId": "12889760788957717284"
     },
     "user_tz": -330
    },
    "id": "A8mDs_bM9UD0",
    "outputId": "9dc0ff6b-cb37-442c-9701-bfdec677ae44"
   },
   "outputs": [],
   "source": [
    "model.eval()\n",
    "pred2label[np.argmax(model(image).cpu().detach().numpy())]"
   ]
  }
 ],
 "metadata": {
  "accelerator": "GPU",
  "colab": {
   "collapsed_sections": [],
   "machine_shape": "hm",
   "name": "Training.ipynb",
   "provenance": []
  },
  "gpuClass": "standard",
  "kernelspec": {
   "display_name": "data-science",
   "language": "python",
   "name": "data-science"
  },
  "language_info": {
   "codemirror_mode": {
    "name": "ipython",
    "version": 3
   },
   "file_extension": ".py",
   "mimetype": "text/x-python",
   "name": "python",
   "nbconvert_exporter": "python",
   "pygments_lexer": "ipython3",
   "version": "3.9.13"
  },
  "widgets": {
   "application/vnd.jupyter.widget-state+json": {
    "state": {},
    "version_major": 2,
    "version_minor": 0
   }
  }
 },
 "nbformat": 4,
 "nbformat_minor": 5
}

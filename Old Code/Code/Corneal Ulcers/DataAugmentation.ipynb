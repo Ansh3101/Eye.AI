{
 "cells": [
  {
   "cell_type": "markdown",
   "id": "ed18ae8c-72da-4edd-83eb-838310fea550",
   "metadata": {},
   "source": [
    "# Data Augmentation\n",
    "\n",
    "#### Data Cleaning & Augmentation Of The Corneal Ulcer Dataset"
   ]
  },
  {
   "cell_type": "markdown",
   "id": "107fea31-030f-44b7-928e-595ea4fc4e50",
   "metadata": {
    "tags": []
   },
   "source": [
    "#### Importing Packages"
   ]
  },
  {
   "cell_type": "code",
   "execution_count": null,
   "id": "084b6b9d-ae86-4893-bf2c-44805ca2ef2b",
   "metadata": {},
   "outputs": [],
   "source": [
    "from glob import glob\n",
    "import os\n",
    "from PIL import Image\n",
    "from tqdm import tqdm\n",
    "import torch\n",
    "import torchvision\n",
    "from torchvision.transforms import *\n",
    "import cv2\n",
    "import torch.nn.functional as F\n",
    "from torch import nn\n",
    "import timm\n",
    "import numpy as np"
   ]
  },
  {
   "cell_type": "markdown",
   "id": "666a63e1-36be-4802-87c3-2d71231fd808",
   "metadata": {
    "tags": []
   },
   "source": [
    "## Cleaning Flaky Corneal Ulcer Images"
   ]
  },
  {
   "cell_type": "markdown",
   "id": "1db16e37-1159-4b97-a13e-6e43f7473ff8",
   "metadata": {},
   "source": [
    "#### Initializing Image Paths"
   ]
  },
  {
   "cell_type": "code",
   "execution_count": null,
   "id": "b646673e-e924-4bf6-a9c6-5d682580c913",
   "metadata": {},
   "outputs": [],
   "source": [
    "image_paths = './Data/images/flaky/*'\n",
    "image_paths = glob(image_paths)"
   ]
  },
  {
   "cell_type": "markdown",
   "id": "80c70180-c7ae-4d7b-8eef-d530701b1886",
   "metadata": {},
   "source": [
    "#### Saving The Image"
   ]
  },
  {
   "cell_type": "code",
   "execution_count": null,
   "id": "1aeec605-34d9-46df-8563-2e542622b959",
   "metadata": {
    "tags": []
   },
   "outputs": [],
   "source": [
    "i=0\n",
    "\n",
    "for image_path in tqdm(image_paths):\n",
    "    path = './Data/images/flaky/'+str(i)+'.jpg'\n",
    "    image.save(fp=path)\n",
    "    i += 1"
   ]
  },
  {
   "cell_type": "markdown",
   "id": "3d7f52fa-435a-476c-a2e2-8668a3549064",
   "metadata": {
    "tags": []
   },
   "source": [
    "## Cleaning Point-Like Corneal Ulcer Images"
   ]
  },
  {
   "cell_type": "markdown",
   "id": "3187152d-78f4-4bf5-92ba-8838fe62f936",
   "metadata": {},
   "source": [
    "#### Initializing Image Paths"
   ]
  },
  {
   "cell_type": "code",
   "execution_count": null,
   "id": "db2fb9ed-9ed9-4ed6-bb2e-e7542b35f65d",
   "metadata": {},
   "outputs": [],
   "source": [
    "image_paths = './Data/images/point-like/*'\n",
    "image_paths = glob(image_paths)"
   ]
  },
  {
   "cell_type": "markdown",
   "id": "4cd1f894-8a46-487c-b489-3575408bce68",
   "metadata": {},
   "source": [
    "#### Saving The Image"
   ]
  },
  {
   "cell_type": "code",
   "execution_count": null,
   "id": "d3951a88-76c3-4d2a-bbdd-5240c8b738f9",
   "metadata": {},
   "outputs": [],
   "source": [
    "i=0\n",
    "\n",
    "for image_path in tqdm(image_paths):\n",
    "    path = './Data/images/point-like/'+str(i)+'.jpg'\n",
    "    image.save(fp=path)\n",
    "    i += 1"
   ]
  },
  {
   "cell_type": "markdown",
   "id": "d663ab11-df6d-4d91-abc5-90ee75fd81e9",
   "metadata": {
    "tags": []
   },
   "source": [
    "## Cleaning Images Of Eyes With No Ulcer Of The Corneal Epithelium"
   ]
  },
  {
   "cell_type": "markdown",
   "id": "1bbd06d6-3866-4cd8-819f-b49ecdfddb82",
   "metadata": {},
   "source": [
    "#### Initializing Image Paths"
   ]
  },
  {
   "cell_type": "code",
   "execution_count": null,
   "id": "99724fa4-b133-4009-bfb3-6fd9a72d7da7",
   "metadata": {},
   "outputs": [],
   "source": [
    "image_paths = './Data/images/no-ulcer/*'\n",
    "image_paths = glob(image_paths)"
   ]
  },
  {
   "cell_type": "markdown",
   "id": "06fee759-2edf-4eab-a5b9-dfd63da0b734",
   "metadata": {},
   "source": [
    "#### Saving The Image"
   ]
  },
  {
   "cell_type": "code",
   "execution_count": null,
   "id": "ffbd20f7-c5a3-4c46-ad2b-1887616deaa0",
   "metadata": {},
   "outputs": [],
   "source": [
    "i=0\n",
    "\n",
    "for image_path in tqdm(image_paths):\n",
    "    path = './Data/images/no-ulcer/'+str(i)+'.jpg'\n",
    "    image.save(fp=path)\n",
    "    i += 1"
   ]
  }
 ],
 "metadata": {
  "kernelspec": {
   "display_name": "data-science",
   "language": "python",
   "name": "data-science"
  },
  "language_info": {
   "codemirror_mode": {
    "name": "ipython",
    "version": 3
   },
   "file_extension": ".py",
   "mimetype": "text/x-python",
   "name": "python",
   "nbconvert_exporter": "python",
   "pygments_lexer": "ipython3",
   "version": "3.9.13"
  },
  "widgets": {
   "application/vnd.jupyter.widget-state+json": {
    "state": {},
    "version_major": 2,
    "version_minor": 0
   }
  }
 },
 "nbformat": 4,
 "nbformat_minor": 5
}

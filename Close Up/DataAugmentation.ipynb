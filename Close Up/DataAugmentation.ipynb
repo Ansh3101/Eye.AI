{
 "cells": [
  {
   "cell_type": "markdown",
   "id": "955f54d7-48c9-439c-92b3-87547b3a04f4",
   "metadata": {},
   "source": [
    "# Data Augmentations"
   ]
  },
  {
   "cell_type": "code",
   "execution_count": 1,
   "id": "0b3269e3-7cff-48fb-a7fd-56723d4fb520",
   "metadata": {},
   "outputs": [],
   "source": [
    "from glob import glob\n",
    "import os\n",
    "from PIL import Image\n",
    "from tqdm import tqdm\n",
    "import torch\n",
    "import torchvision\n",
    "from torchvision.transforms import v2\n",
    "import cv2\n",
    "import torch.nn.functional as F\n",
    "from torch import nn\n",
    "import timm\n",
    "import numpy as np"
   ]
  },
  {
   "cell_type": "code",
   "execution_count": 2,
   "id": "15a10c5d-27b5-483b-9239-939f3d723c93",
   "metadata": {},
   "outputs": [
    {
     "data": {
      "text/plain": [
       "True"
      ]
     },
     "execution_count": 2,
     "metadata": {},
     "output_type": "execute_result"
    }
   ],
   "source": [
    "torch.backends.mps.is_built()"
   ]
  },
  {
   "cell_type": "markdown",
   "id": "726e640f-1006-4f96-8f98-d13074db90b9",
   "metadata": {},
   "source": [
    "## Transformations"
   ]
  },
  {
   "cell_type": "code",
   "execution_count": 6,
   "id": "82e69181-63b4-44f4-9770-972d8f0d4a54",
   "metadata": {},
   "outputs": [],
   "source": [
    "t0 = v2.Compose([\n",
    "    v2.Resize(size=(300, 300)),\n",
    "    v2.RandomHorizontalFlip(1.0),\n",
    "])\n",
    "\n",
    "t1 = v2.Compose([\n",
    "    v2.Resize(size=(300, 300)),\n",
    "    v2.RandomVerticalFlip(1.0),\n",
    "])\n",
    "\n",
    "\n",
    "t2 = v2.Compose([\n",
    "    v2.Resize(size=(300, 300)),\n",
    "    v2.RandomRotation(60),\n",
    "])\n",
    "\n",
    "t3 = v2.Compose([\n",
    "    v2.Resize(size=(300, 300)),\n",
    "    v2.RandomAffine(100),\n",
    "])"
   ]
  },
  {
   "cell_type": "markdown",
   "id": "b73feae8-a999-4e40-b8ea-f04f46a6d585",
   "metadata": {},
   "source": [
    "## Cataract"
   ]
  },
  {
   "cell_type": "code",
   "execution_count": 3,
   "id": "011b0d7e-035d-48e0-9dcf-baf07004e9f2",
   "metadata": {
    "tags": []
   },
   "outputs": [
    {
     "data": {
      "text/plain": [
       "6270"
      ]
     },
     "execution_count": 3,
     "metadata": {},
     "output_type": "execute_result"
    }
   ],
   "source": [
    "image_paths = './images/close-up/cataract/*'\n",
    "image_paths = glob(image_paths)\n",
    "len(image_paths)"
   ]
  },
  {
   "cell_type": "code",
   "execution_count": 8,
   "id": "0c444fc2-5892-4039-bdd7-9fdf1cdc110c",
   "metadata": {},
   "outputs": [
    {
     "name": "stderr",
     "output_type": "stream",
     "text": [
      "100%|██████████████████████████████████████████████████████████████████████████████████| 6270/6270 [01:03<00:00, 98.80it/s]\n"
     ]
    }
   ],
   "source": [
    "i=0\n",
    "\n",
    "for image_path in tqdm(image_paths):\n",
    "    path = './images/close-up/cataract1/'+str(i)+'.jpg'\n",
    "    path0 = './images/close-up/cataract1/'+str(i)+'_'+'0'+'.jpg'\n",
    "    path1 = './images/close-up/cataract1/'+str(i)+'_'+'1'+'.jpg'\n",
    "    path2 = './images/close-up/cataract1/'+str(i)+'_'+'2'+'.jpg'\n",
    "    path3 = './images/close-up/cataract1/'+str(i)+'_'+'3'+'.jpg'\n",
    "    image = Image.open(image_path)\n",
    "    image0 = t0(image)\n",
    "    image1 = t1(image)\n",
    "    image2 = t2(image)\n",
    "    image3 = t3(image)\n",
    "    image.save(fp=path)\n",
    "    image0.save(fp=path0)\n",
    "    image1.save(fp=path1)\n",
    "    image2.save(fp=path2)\n",
    "    image3.save(fp=path3)\n",
    "    i += 1"
   ]
  },
  {
   "cell_type": "markdown",
   "id": "52c81758-e596-4dc6-bb0d-b1be4dca2417",
   "metadata": {},
   "source": [
    "## Normal"
   ]
  },
  {
   "cell_type": "code",
   "execution_count": 9,
   "id": "d938f3a3-fc88-4a9a-834a-c91b7c594cb4",
   "metadata": {
    "tags": []
   },
   "outputs": [
    {
     "data": {
      "text/plain": [
       "7216"
      ]
     },
     "execution_count": 9,
     "metadata": {},
     "output_type": "execute_result"
    }
   ],
   "source": [
    "image_paths = './images/close-up/normal/*'\n",
    "image_paths = glob(image_paths)\n",
    "len(image_paths)"
   ]
  },
  {
   "cell_type": "code",
   "execution_count": 10,
   "id": "71ee7852-2429-4fa2-88a4-2e68bf4aac86",
   "metadata": {},
   "outputs": [
    {
     "name": "stderr",
     "output_type": "stream",
     "text": [
      "100%|██████████████████████████████████████████████████████████████████████████████████| 7216/7216 [02:10<00:00, 55.46it/s]\n"
     ]
    }
   ],
   "source": [
    "i=0\n",
    "\n",
    "for image_path in tqdm(image_paths):\n",
    "    path = './images/close-up/normal1/'+str(i)+'.jpg'\n",
    "    path0 = './images/close-up/normal1/'+str(i)+'_'+'0'+'.jpg'\n",
    "    path1 = './images/close-up/normal1/'+str(i)+'_'+'1'+'.jpg'\n",
    "    path2 = './images/close-up/normal1/'+str(i)+'_'+'2'+'.jpg'\n",
    "    path3 = './images/close-up/normal1/'+str(i)+'_'+'3'+'.jpg'\n",
    "    image = Image.open(image_path)\n",
    "    image0 = t0(image)\n",
    "    image1 = t1(image)\n",
    "    image2 = t2(image)\n",
    "    image3 = t3(image)\n",
    "    image.save(fp=path)\n",
    "    image0.save(fp=path0)\n",
    "    image1.save(fp=path1)\n",
    "    image2.save(fp=path2)\n",
    "    image3.save(fp=path3)\n",
    "    i += 1"
   ]
  }
 ],
 "metadata": {
  "kernelspec": {
   "display_name": "data-science",
   "language": "python",
   "name": "data-science"
  },
  "language_info": {
   "codemirror_mode": {
    "name": "ipython",
    "version": 3
   },
   "file_extension": ".py",
   "mimetype": "text/x-python",
   "name": "python",
   "nbconvert_exporter": "python",
   "pygments_lexer": "ipython3",
   "version": "3.9.18"
  },
  "widgets": {
   "application/vnd.jupyter.widget-state+json": {
    "state": {},
    "version_major": 2,
    "version_minor": 0
   }
  }
 },
 "nbformat": 4,
 "nbformat_minor": 5
}

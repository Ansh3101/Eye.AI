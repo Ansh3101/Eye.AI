{
 "cells": [
  {
   "cell_type": "code",
   "execution_count": null,
   "id": "0dfc256d-f746-4548-85d1-0fa76918f6a5",
   "metadata": {},
   "outputs": [],
   "source": [
    "from glob import glob\n",
    "import os\n",
    "from PIL import Image\n",
    "from tqdm import tqdm\n",
    "import torch\n",
    "import torchvision\n",
    "from torchvision.transforms import *\n",
    "import cv2\n",
    "import torch.nn.functional as F\n",
    "from torch import nn\n",
    "import timm\n",
    "import numpy as np"
   ]
  },
  {
   "cell_type": "markdown",
   "id": "9876e1be-c72d-46fb-9a8c-60a2a7f321c6",
   "metadata": {
    "tags": []
   },
   "source": [
    "## Uveitis"
   ]
  },
  {
   "cell_type": "code",
   "execution_count": null,
   "id": "fe9b6bb9-c06c-48c6-805d-521002a278cc",
   "metadata": {},
   "outputs": [],
   "source": [
    "image_paths = './Data/Uveitis/*'\n",
    "image_paths = glob(image_paths)"
   ]
  },
  {
   "cell_type": "code",
   "execution_count": null,
   "id": "4bcd5196-d2c3-4592-a7e3-df83b4d5dd77",
   "metadata": {},
   "outputs": [],
   "source": [
    "t0 = RandomHorizontalFlip(1.0)\n",
    "t1 = RandomRotation(60)\n",
    "t2 = RandomVerticalFlip(1.0)"
   ]
  },
  {
   "cell_type": "code",
   "execution_count": null,
   "id": "b0e93808-ebb6-463f-9ced-29fd5a6bef2a",
   "metadata": {
    "tags": []
   },
   "outputs": [],
   "source": [
    "i=0\n",
    "\n",
    "for image_path in tqdm(image_paths):\n",
    "    path = './Data/Uveitis/'+str(i)+'.jpg'\n",
    "    path0 = './Data/Uveitis/'+str(i)+'_'+'0'+'.jpg'\n",
    "    path1 = './Data/Uveitis/'+str(i)+'_'+'1'+'.jpg'\n",
    "    path2 = './Data/Uveitis/'+str(i)+'_'+'2'+'.jpg'\n",
    "    image = Image.open(image_path)\n",
    "    image0 = t0(image)\n",
    "    image1 = t1(image)\n",
    "    image2 = t2(image)\n",
    "    image.save(fp=path)\n",
    "    image0.save(fp=path0)\n",
    "    image1.save(fp=path1)\n",
    "    image2.save(fp=path2)\n",
    "    i += 1"
   ]
  },
  {
   "cell_type": "markdown",
   "id": "a36dd11f-1ce6-41b4-98fe-412f654ba5d9",
   "metadata": {},
   "source": [
    "## Glaucoma"
   ]
  },
  {
   "cell_type": "code",
   "execution_count": null,
   "id": "0a953ccf-2064-4822-9add-4e4849e48e39",
   "metadata": {},
   "outputs": [],
   "source": [
    "image_paths = './Data/Glaucoma/*'\n",
    "image_paths = glob(image_paths)"
   ]
  },
  {
   "cell_type": "code",
   "execution_count": null,
   "id": "b1bbad62-3801-4210-a882-0b276d9fe0e0",
   "metadata": {},
   "outputs": [],
   "source": [
    "t0 = RandomHorizontalFlip(1.0)\n",
    "t1 = RandomRotation(60)\n",
    "t2 = RandomVerticalFlip(1.0)"
   ]
  },
  {
   "cell_type": "code",
   "execution_count": null,
   "id": "9d0e9029-a5b5-4f8b-afbc-6d9729ff7ed7",
   "metadata": {
    "tags": []
   },
   "outputs": [],
   "source": [
    "i=0\n",
    "\n",
    "for image_path in tqdm(image_paths):\n",
    "    path = './Data/Glaucoma/'+str(i)+'.jpg'\n",
    "    path0 = './Data/Glaucoma/'+str(i)+'_'+'0'+'.jpg'\n",
    "    path1 = './Data/Glaucoma/'+str(i)+'_'+'1'+'.jpg'\n",
    "    path2 = './Data/Glaucoma/'+str(i)+'_'+'2'+'.jpg'\n",
    "    image = Image.open(image_path)\n",
    "    image0 = t0(image)\n",
    "    image1 = t1(image)\n",
    "    image2 = t2(image)\n",
    "    image.save(fp=path)\n",
    "    image0.save(fp=path0)\n",
    "    image1.save(fp=path1)\n",
    "    image2.save(fp=path2)\n",
    "    i += 1"
   ]
  },
  {
   "cell_type": "markdown",
   "id": "fa1ada59-6568-4999-b352-52b63a3b8597",
   "metadata": {
    "tags": []
   },
   "source": [
    "## Healthy"
   ]
  },
  {
   "cell_type": "code",
   "execution_count": null,
   "id": "ccbb8a0d-5f23-426d-8c5a-e2c92712f364",
   "metadata": {},
   "outputs": [],
   "source": [
    "image_paths = './Data/Healthy/*'\n",
    "image_paths = glob(image_paths)"
   ]
  },
  {
   "cell_type": "code",
   "execution_count": null,
   "id": "1fb07fb2-7b0d-40b1-9a77-77310269f445",
   "metadata": {},
   "outputs": [],
   "source": [
    "t0 = RandomHorizontalFlip(1.0)\n",
    "t1 = RandomRotation(60)\n",
    "t2 = RandomVerticalFlip(1.0)"
   ]
  },
  {
   "cell_type": "code",
   "execution_count": null,
   "id": "085d320e-d6ad-43a8-8fb2-efbef835d298",
   "metadata": {
    "jp-MarkdownHeadingCollapsed": true,
    "tags": []
   },
   "outputs": [],
   "source": [
    "i=0\n",
    "\n",
    "for image_path in tqdm(image_paths):\n",
    "    path = './Data/Healthy/'+str(i)+'.jpg'\n",
    "    path0 = './Data/Healthy/'+str(i)+'_'+'0'+'.jpg'\n",
    "    path1 = './Data/Healthy/'+str(i)+'_'+'1'+'.jpg'\n",
    "    path2 = './Data/Healthy/'+str(i)+'_'+'2'+'.jpg'\n",
    "    image = Image.open(image_path)\n",
    "    image0 = t0(image)\n",
    "    image1 = t1(image)\n",
    "    image2 = t2(image)\n",
    "    image.save(fp=path)\n",
    "    image0.save(fp=path0)\n",
    "    image1.save(fp=path1)\n",
    "    image2.save(fp=path2)\n",
    "    i += 1\n"
   ]
  },
  {
   "cell_type": "markdown",
   "id": "0d0027ad-d42a-4f61-bb45-a1c7f2f2845b",
   "metadata": {},
   "source": [
    "## Cataract"
   ]
  },
  {
   "cell_type": "code",
   "execution_count": null,
   "id": "be5de079-7678-4358-a649-e27cd3538981",
   "metadata": {},
   "outputs": [],
   "source": [
    "image_paths = './Data/Cataracts/*'\n",
    "image_paths = glob(image_paths)"
   ]
  },
  {
   "cell_type": "code",
   "execution_count": null,
   "id": "f2e26760-e1ae-4e25-9d81-98bddeff4a83",
   "metadata": {},
   "outputs": [],
   "source": [
    "t0 = RandomHorizontalFlip(1.0)\n",
    "t1 = RandomRotation(60)\n",
    "t2 = RandomVerticalFlip(1.0)"
   ]
  },
  {
   "cell_type": "code",
   "execution_count": null,
   "id": "3a85c64e-fa70-499d-b13b-e4660611c081",
   "metadata": {},
   "outputs": [],
   "source": [
    "i=0\n",
    "\n",
    "for image_path in tqdm(image_paths):\n",
    "    path = './Data/Cataracts/'+str(i)+'.jpg'\n",
    "    path0 = './Data/Cataracts/'+str(i)+'_'+'0'+'.jpg'\n",
    "    path1 = './Data/Cataracts/'+str(i)+'_'+'1'+'.jpg'\n",
    "    path2 = './Data/Cataracts/'+str(i)+'_'+'2'+'.jpg'\n",
    "    image = Image.open(image_path)\n",
    "    image0 = t0(image)\n",
    "    image1 = t1(image)\n",
    "    image2 = t2(image)\n",
    "    image.save(fp=path)\n",
    "    image0.save(fp=path0)\n",
    "    image1.save(fp=path1)\n",
    "    image2.save(fp=path2)\n",
    "    i += 1"
   ]
  }
 ],
 "metadata": {
  "kernelspec": {
   "display_name": "data-science",
   "language": "python",
   "name": "data-science"
  },
  "language_info": {
   "codemirror_mode": {
    "name": "ipython",
    "version": 3
   },
   "file_extension": ".py",
   "mimetype": "text/x-python",
   "name": "python",
   "nbconvert_exporter": "python",
   "pygments_lexer": "ipython3",
   "version": "3.9.13"
  },
  "widgets": {
   "application/vnd.jupyter.widget-state+json": {
    "state": {},
    "version_major": 2,
    "version_minor": 0
   }
  }
 },
 "nbformat": 4,
 "nbformat_minor": 5
}

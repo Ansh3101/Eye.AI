{
 "cells": [
  {
   "cell_type": "code",
   "execution_count": 1,
   "id": "084b6b9d-ae86-4893-bf2c-44805ca2ef2b",
   "metadata": {},
   "outputs": [],
   "source": [
    "from glob import glob\n",
    "import os\n",
    "from PIL import Image\n",
    "from tqdm import tqdm\n",
    "import torch\n",
    "import torchvision\n",
    "from torchvision.transforms import *\n",
    "import cv2\n",
    "import torch.nn.functional as F\n",
    "from torch import nn\n",
    "import timm\n",
    "import numpy as np"
   ]
  },
  {
   "cell_type": "markdown",
   "id": "2a573bba-8ac0-4a68-91fa-0d27440b734d",
   "metadata": {
    "tags": []
   },
   "source": [
    "## Category\n",
    "- point-like corneal ulcers\n",
    "- point-flaky mixed corneal ulcers\n",
    "- flaky corneal ulcers\n",
    "## Types\n",
    "- type 0 : No ulcer of the corneal epithelium\n",
    "- type 1 : Micro punctate\n",
    "- type 2 : Macro punctate\n",
    "- type 3 : Coalescent macro punctate\n",
    "- type 4 : Patch (>=1 mm)\n",
    "## Grade\n",
    "- grade 0 : No ulcer of the corneal epithelium\n",
    "- grade 1 : Corneal ulcers involve only one surrounding quadrant\n",
    "- grade 2 : Corneal ulcers involve two surrounding quadrants\n",
    "- grade 3 : Corneal ulcers involve three or four surrounding quadrants\n",
    "- grade 4 : Corneal ulcers involve the central optical zone of the cornea"
   ]
  },
  {
   "cell_type": "code",
   "execution_count": 8,
   "id": "a8016d46-efaf-4869-b3fc-8ffe23ee20a2",
   "metadata": {},
   "outputs": [],
   "source": [
    "c0 = 'point-like corneal ulcers'\n",
    "c1 = 'point-flaky mixed corneal ulcers'\n",
    "c2 = 'flaky corneal ulcers'\n",
    "t0 = 'No ulcer of the corneal epithelium'\n",
    "t1 = 'Micro punctate'\n",
    "t2 = 'Macro punctate'\n",
    "t3 = 'Coalescent macro punctate'\n",
    "t4 = 'Patch (>=1 mm)'\n",
    "g0 = 'No ulcer of the corneal epithelium'\n",
    "g1 = 'Corneal ulcers involve only one surrounding quadrant'\n",
    "g2 = 'Corneal ulcers involve two surrounding quadrants'\n",
    "g3 = 'Corneal ulcers involve three or four surrounding quadrants'\n",
    "g4 = 'Corneal ulcers involve the central optical zone of the cornea'"
   ]
  },
  {
   "cell_type": "code",
   "execution_count": 9,
   "id": "4dac013c-b71e-4feb-8487-c163552d372a",
   "metadata": {},
   "outputs": [],
   "source": [
    "labels['c+t_g'] = labels['name']"
   ]
  },
  {
   "cell_type": "code",
   "execution_count": 10,
   "id": "fc00b8d0-e10f-4fd7-9178-c34aa7ffc391",
   "metadata": {},
   "outputs": [
    {
     "name": "stderr",
     "output_type": "stream",
     "text": [
      "/var/folders/37/cr55t1yj4_q7mn_gwsg1qk640000gn/T/ipykernel_21193/4004307332.py:5: SettingWithCopyWarning: \n",
      "A value is trying to be set on a copy of a slice from a DataFrame\n",
      "\n",
      "See the caveats in the documentation: https://pandas.pydata.org/pandas-docs/stable/user_guide/indexing.html#returning-a-view-versus-a-copy\n",
      "  labels['c+t_g'][ind] = str(l0) + '+' + str(labels['type'][ind]) + '_' + str(labels['grade'][ind])\n"
     ]
    }
   ],
   "source": [
    "for ind in labels.index:\n",
    "    \n",
    "    l0 = labels['category'][ind]\n",
    "    \n",
    "    labels['c+t_g'][ind] = str(l0) + '+' + str(labels['type'][ind]) + '_' + str(labels['grade'][ind])\n"
   ]
  },
  {
   "cell_type": "code",
   "execution_count": 11,
   "id": "bc117a25-eebd-426f-a795-d83562f09df1",
   "metadata": {},
   "outputs": [
    {
     "data": {
      "text/html": [
       "<div><div id=c93d1b02-4eaf-4b91-acd7-13191a481344 style=\"display:none; background-color:#9D6CFF; color:white; width:200px; height:30px; padding-left:5px; border-radius:4px; flex-direction:row; justify-content:space-around; align-items:center;\" onmouseover=\"this.style.backgroundColor='#BA9BF8'\" onmouseout=\"this.style.backgroundColor='#9D6CFF'\" onclick=\"window.commands?.execute('create-mitosheet-from-dataframe-output');\">See Full Dataframe in Mito</div> <script> if (window.commands?.hasCommand('create-mitosheet-from-dataframe-output')) document.getElementById('c93d1b02-4eaf-4b91-acd7-13191a481344').style.display = 'flex' </script> <table border=\"1\" class=\"dataframe\">\n",
       "  <thead>\n",
       "    <tr style=\"text-align: right;\">\n",
       "      <th></th>\n",
       "      <th>name</th>\n",
       "      <th>category</th>\n",
       "      <th>type</th>\n",
       "      <th>grade</th>\n",
       "      <th>c+t_g</th>\n",
       "    </tr>\n",
       "  </thead>\n",
       "  <tbody>\n",
       "    <tr>\n",
       "      <th>0</th>\n",
       "      <td>1.jpg</td>\n",
       "      <td>0</td>\n",
       "      <td>4</td>\n",
       "      <td>3</td>\n",
       "      <td>0+4_3</td>\n",
       "    </tr>\n",
       "    <tr>\n",
       "      <th>1</th>\n",
       "      <td>2.jpg</td>\n",
       "      <td>0</td>\n",
       "      <td>4</td>\n",
       "      <td>3</td>\n",
       "      <td>0+4_3</td>\n",
       "    </tr>\n",
       "    <tr>\n",
       "      <th>2</th>\n",
       "      <td>3.jpg</td>\n",
       "      <td>0</td>\n",
       "      <td>2</td>\n",
       "      <td>2</td>\n",
       "      <td>0+2_2</td>\n",
       "    </tr>\n",
       "    <tr>\n",
       "      <th>3</th>\n",
       "      <td>4.jpg</td>\n",
       "      <td>0</td>\n",
       "      <td>2</td>\n",
       "      <td>1</td>\n",
       "      <td>0+2_1</td>\n",
       "    </tr>\n",
       "    <tr>\n",
       "      <th>4</th>\n",
       "      <td>5.jpg</td>\n",
       "      <td>0</td>\n",
       "      <td>1</td>\n",
       "      <td>3</td>\n",
       "      <td>0+1_3</td>\n",
       "    </tr>\n",
       "    <tr>\n",
       "      <th>...</th>\n",
       "      <td>...</td>\n",
       "      <td>...</td>\n",
       "      <td>...</td>\n",
       "      <td>...</td>\n",
       "      <td>...</td>\n",
       "    </tr>\n",
       "    <tr>\n",
       "      <th>707</th>\n",
       "      <td>708.jpg</td>\n",
       "      <td>2</td>\n",
       "      <td>2</td>\n",
       "      <td>4</td>\n",
       "      <td>2+2_4</td>\n",
       "    </tr>\n",
       "    <tr>\n",
       "      <th>708</th>\n",
       "      <td>709.jpg</td>\n",
       "      <td>2</td>\n",
       "      <td>2</td>\n",
       "      <td>4</td>\n",
       "      <td>2+2_4</td>\n",
       "    </tr>\n",
       "    <tr>\n",
       "      <th>709</th>\n",
       "      <td>710.jpg</td>\n",
       "      <td>2</td>\n",
       "      <td>1</td>\n",
       "      <td>4</td>\n",
       "      <td>2+1_4</td>\n",
       "    </tr>\n",
       "    <tr>\n",
       "      <th>710</th>\n",
       "      <td>711.jpg</td>\n",
       "      <td>2</td>\n",
       "      <td>3</td>\n",
       "      <td>4</td>\n",
       "      <td>2+3_4</td>\n",
       "    </tr>\n",
       "    <tr>\n",
       "      <th>711</th>\n",
       "      <td>712.jpg</td>\n",
       "      <td>2</td>\n",
       "      <td>4</td>\n",
       "      <td>4</td>\n",
       "      <td>2+4_4</td>\n",
       "    </tr>\n",
       "  </tbody>\n",
       "</table></div>"
      ],
      "text/plain": [
       "        name  category  type  grade  c+t_g\n",
       "0      1.jpg         0     4      3  0+4_3\n",
       "1      2.jpg         0     4      3  0+4_3\n",
       "2      3.jpg         0     2      2  0+2_2\n",
       "3      4.jpg         0     2      1  0+2_1\n",
       "4      5.jpg         0     1      3  0+1_3\n",
       "..       ...       ...   ...    ...    ...\n",
       "707  708.jpg         2     2      4  2+2_4\n",
       "708  709.jpg         2     2      4  2+2_4\n",
       "709  710.jpg         2     1      4  2+1_4\n",
       "710  711.jpg         2     3      4  2+3_4\n",
       "711  712.jpg         2     4      4  2+4_4\n",
       "\n",
       "[712 rows x 5 columns]"
      ]
     },
     "execution_count": 11,
     "metadata": {},
     "output_type": "execute_result"
    }
   ],
   "source": [
    "labels"
   ]
  },
  {
   "cell_type": "code",
   "execution_count": 12,
   "id": "24b1e0e0-1f61-490b-a85d-b4e607602b9a",
   "metadata": {},
   "outputs": [],
   "source": [
    "labels.to_csv('labels.csv')"
   ]
  }
 ],
 "metadata": {
  "kernelspec": {
   "display_name": "data-science",
   "language": "python",
   "name": "data-science"
  },
  "language_info": {
   "codemirror_mode": {
    "name": "ipython",
    "version": 3
   },
   "file_extension": ".py",
   "mimetype": "text/x-python",
   "name": "python",
   "nbconvert_exporter": "python",
   "pygments_lexer": "ipython3",
   "version": "3.9.13"
  },
  "widgets": {
   "application/vnd.jupyter.widget-state+json": {
    "state": {},
    "version_major": 2,
    "version_minor": 0
   }
  }
 },
 "nbformat": 4,
 "nbformat_minor": 5
}

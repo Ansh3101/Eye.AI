{
 "cells": [
  {
   "cell_type": "markdown",
   "metadata": {},
   "source": [
    "# Blindness Detection (Diabetic Retinopathy) Model Training\n",
    "\n",
    "### EfficientNetV2 B4 - 0.92 Validation Accuracy ( 0.6 Validation Loss )"
   ]
  },
  {
   "cell_type": "code",
   "execution_count": null,
   "metadata": {
    "executionInfo": {
     "elapsed": 553,
     "status": "ok",
     "timestamp": 1658614472663,
     "user": {
      "displayName": "Anshuman Tekriwal",
      "userId": "12889760788957717284"
     },
     "user_tz": -330
    },
    "id": "ubzPw8wAdmrz"
   },
   "outputs": [],
   "source": [
    "import torch\n",
    "import torchvision\n",
    "import os\n",
    "import cv2\n",
    "import numpy as np\n",
    "from torch import nn\n",
    "from glob import glob\n",
    "import pandas as pd\n",
    "import torch.nn.functional as F"
   ]
  },
  {
   "cell_type": "code",
   "execution_count": null,
   "metadata": {
    "executionInfo": {
     "elapsed": 5,
     "status": "ok",
     "timestamp": 1658614473348,
     "user": {
      "displayName": "Anshuman Tekriwal",
      "userId": "12889760788957717284"
     },
     "user_tz": -330
    },
    "id": "uFDs7j_IdyCm"
   },
   "outputs": [],
   "source": [
    "image_paths = './Data/*/*'\n",
    "image_paths = glob(image_paths)"
   ]
  },
  {
   "cell_type": "code",
   "execution_count": null,
   "metadata": {
    "executionInfo": {
     "elapsed": 5,
     "status": "ok",
     "timestamp": 1658614473350,
     "user": {
      "displayName": "Anshuman Tekriwal",
      "userId": "12889760788957717284"
     },
     "user_tz": -330
    },
    "id": "StupY1Uyd0Fn"
   },
   "outputs": [],
   "source": [
    "labels = []\n",
    "images = []\n",
    "\n",
    "for image_path in image_paths:\n",
    "    label = image_path.split(os.path.sep)[2]\n",
    "    image = image_path.split(os.path.sep)[3]\n",
    "    labels.append(label)\n",
    "    images.append(image)"
   ]
  },
  {
   "cell_type": "code",
   "execution_count": null,
   "metadata": {
    "colab": {
     "base_uri": "https://localhost:8080/"
    },
    "executionInfo": {
     "elapsed": 3,
     "status": "ok",
     "timestamp": 1658614473949,
     "user": {
      "displayName": "Anshuman Tekriwal",
      "userId": "12889760788957717284"
     },
     "user_tz": -330
    },
    "id": "x0HqlBbKd3d1",
    "outputId": "9249f2a8-88d5-477e-88ee-8963b90ca53a"
   },
   "outputs": [],
   "source": [
    "np.unique(labels)"
   ]
  },
  {
   "cell_type": "code",
   "execution_count": null,
   "metadata": {
    "executionInfo": {
     "elapsed": 2,
     "status": "ok",
     "timestamp": 1658614473949,
     "user": {
      "displayName": "Anshuman Tekriwal",
      "userId": "12889760788957717284"
     },
     "user_tz": -330
    },
    "id": "pxOwgyjfd5Le"
   },
   "outputs": [],
   "source": [
    "labels = np.array(labels, dtype='str')\n",
    "label2pred = dict(zip(np.unique(labels), range(0, 5)))\n",
    "pred2label = dict(zip(range(0, 5), np.unique(labels)))\n",
    "n_classes = len(np.unique(labels))"
   ]
  },
  {
   "cell_type": "code",
   "execution_count": null,
   "metadata": {
    "executionInfo": {
     "elapsed": 4,
     "status": "ok",
     "timestamp": 1658614475053,
     "user": {
      "displayName": "Anshuman Tekriwal",
      "userId": "12889760788957717284"
     },
     "user_tz": -330
    },
    "id": "Lizou9Sod923"
   },
   "outputs": [],
   "source": [
    "class DiabeticRetinopathy(torch.utils.data.Dataset):\n",
    "    \n",
    "    def __init__(self, image_paths, labels, transforms=None):\n",
    "        super(DiabeticRetinopathy, self).__init__()\n",
    "        \n",
    "        self.image_paths = image_paths\n",
    "        self.labels = labels\n",
    "        self.transforms = transforms\n",
    "        \n",
    "    def __len__(self):\n",
    "        return len(self.image_paths)\n",
    "    \n",
    "    def __getitem__(self, idx):\n",
    "        \n",
    "        image = cv2.imread(self.image_paths[idx])\n",
    "        image = cv2.cvtColor(image, cv2.COLOR_BGR2RGB)\n",
    "        image = cv2.resize(image, (400, 400))\n",
    "            \n",
    "        label = self.labels[idx]\n",
    "        label = label2pred[label]\n",
    "        label = torch.tensor(label)\n",
    "        \n",
    "        if self.transforms:\n",
    "            image = self.transforms(image)\n",
    "        \n",
    "        return image, label        "
   ]
  },
  {
   "cell_type": "code",
   "execution_count": null,
   "metadata": {
    "executionInfo": {
     "elapsed": 4,
     "status": "ok",
     "timestamp": 1658614475711,
     "user": {
      "displayName": "Anshuman Tekriwal",
      "userId": "12889760788957717284"
     },
     "user_tz": -330
    },
    "id": "VuBA3-OgeAxf"
   },
   "outputs": [],
   "source": [
    "device='cuda'"
   ]
  },
  {
   "cell_type": "code",
   "execution_count": null,
   "metadata": {
    "executionInfo": {
     "elapsed": 630,
     "status": "ok",
     "timestamp": 1658614480339,
     "user": {
      "displayName": "Anshuman Tekriwal",
      "userId": "12889760788957717284"
     },
     "user_tz": -330
    },
    "id": "jNDLz7Y9eCP8"
   },
   "outputs": [],
   "source": [
    "from sklearn.model_selection import train_test_split\n",
    "image_paths, _, labels, _ = train_test_split(image_paths, labels, test_size=0.95, shuffle=True, stratify=labels)\n",
    "train_image_paths, test_image_paths, train_labels, test_labels = train_test_split(image_paths, labels, test_size=0.2, shuffle=True, stratify=labels)"
   ]
  },
  {
   "cell_type": "code",
   "execution_count": null,
   "metadata": {
    "executionInfo": {
     "elapsed": 422,
     "status": "ok",
     "timestamp": 1658614545866,
     "user": {
      "displayName": "Anshuman Tekriwal",
      "userId": "12889760788957717284"
     },
     "user_tz": -330
    },
    "id": "USKW9dN5eEWm"
   },
   "outputs": [],
   "source": [
    "tr_transforms = torchvision.transforms.Compose([\n",
    "    torchvision.transforms.ToTensor(),\n",
    "    torchvision.transforms.CenterCrop(380),\n",
    "    torchvision.transforms.Normalize([0.485, 0.456, 0.406], [0.229, 0.224, 0.225])])\n",
    "\n",
    "\n",
    "val_transforms = torchvision.transforms.Compose([\n",
    "    torchvision.transforms.ToTensor(),\n",
    "    torchvision.transforms.CenterCrop(380),\n",
    "    torchvision.transforms.Normalize([0.485, 0.456, 0.406], [0.229, 0.224, 0.225])])\n"
   ]
  },
  {
   "cell_type": "code",
   "execution_count": null,
   "metadata": {
    "executionInfo": {
     "elapsed": 2,
     "status": "ok",
     "timestamp": 1658614546538,
     "user": {
      "displayName": "Anshuman Tekriwal",
      "userId": "12889760788957717284"
     },
     "user_tz": -330
    },
    "id": "CpSK3psneGdj"
   },
   "outputs": [],
   "source": [
    "train_dataset = DiabeticRetinopathy(image_paths=train_image_paths, labels=train_labels, transforms=tr_transforms)\n",
    "test_dataset = DiabeticRetinopathy(image_paths=test_image_paths, labels=test_labels, transforms=val_transforms)"
   ]
  },
  {
   "cell_type": "code",
   "execution_count": null,
   "metadata": {
    "colab": {
     "base_uri": "https://localhost:8080/"
    },
    "executionInfo": {
     "elapsed": 11,
     "status": "ok",
     "timestamp": 1658614547448,
     "user": {
      "displayName": "Anshuman Tekriwal",
      "userId": "12889760788957717284"
     },
     "user_tz": -330
    },
    "id": "pb4koL-YeHwl",
    "outputId": "2b00709f-7d22-48ff-e187-9ab3412492a5"
   },
   "outputs": [],
   "source": [
    "len(train_dataset)"
   ]
  },
  {
   "cell_type": "code",
   "execution_count": null,
   "metadata": {
    "executionInfo": {
     "elapsed": 8,
     "status": "ok",
     "timestamp": 1658614547448,
     "user": {
      "displayName": "Anshuman Tekriwal",
      "userId": "12889760788957717284"
     },
     "user_tz": -330
    },
    "id": "FoDBMiBgeJid"
   },
   "outputs": [],
   "source": [
    "train_dataloader = torch.utils.data.DataLoader(dataset=train_dataset, batch_size=20, shuffle=True)\n",
    "test_dataloader = torch.utils.data.DataLoader(dataset=test_dataset, batch_size=20, shuffle=False)"
   ]
  },
  {
   "cell_type": "code",
   "execution_count": null,
   "metadata": {
    "colab": {
     "base_uri": "https://localhost:8080/",
     "height": 306
    },
    "executionInfo": {
     "elapsed": 9,
     "status": "ok",
     "timestamp": 1658614547449,
     "user": {
      "displayName": "Anshuman Tekriwal",
      "userId": "12889760788957717284"
     },
     "user_tz": -330
    },
    "id": "5bn-41WJePaT",
    "outputId": "b8d6c4bb-cf3a-45fa-985c-9c801777b053"
   },
   "outputs": [],
   "source": [
    "import matplotlib.pyplot as plt\n",
    "\n",
    "plt.imshow(train_dataset[10][0].permute(1, 2, 0))\n",
    "print(pred2label[train_dataset[10][1].item()])"
   ]
  },
  {
   "cell_type": "code",
   "execution_count": null,
   "metadata": {
    "executionInfo": {
     "elapsed": 14,
     "status": "ok",
     "timestamp": 1658614548114,
     "user": {
      "displayName": "Anshuman Tekriwal",
      "userId": "12889760788957717284"
     },
     "user_tz": -330
    },
    "id": "FDBnZOBGePq0"
   },
   "outputs": [],
   "source": [
    "class ClassificationBase(nn.Module):\n",
    "    def training_step(self, batch):\n",
    "        images, labels = batch\n",
    "        images = images.to(device)\n",
    "        labels = labels.to(device)\n",
    "        out = self(images)\n",
    "        loss = F.cross_entropy(out, labels)\n",
    "        acc = accuracy(out, labels)          \n",
    "        return loss, acc\n",
    "\n",
    "    def validation_step(self, batch):\n",
    "        images, labels = batch \n",
    "        images = images.to(device)\n",
    "        labels = labels.to(device)\n",
    "        out = self(images)                    \n",
    "        loss = F.cross_entropy(out, labels) \n",
    "        acc = accuracy(out, labels)          \n",
    "        return {'val_loss': loss.detach(), 'val_acc': acc}\n",
    "        \n",
    "    def validation_epoch_end(self, outputs):\n",
    "        batch_losses = [x['val_loss'] for x in outputs]\n",
    "        epoch_loss = torch.stack(batch_losses).mean()   \n",
    "        batch_accs = [x['val_acc'] for x in outputs]\n",
    "        epoch_acc = torch.stack(batch_accs).mean()    \n",
    "        return {'val_loss': epoch_loss.item(), 'val_acc': epoch_acc.item()}\n",
    "    \n",
    "    def epoch_end(self, epoch, result):\n",
    "        print(\"Epoch [{}], val_loss: {:.4f}, val_acc: {:.4f}\\n\".format(epoch, result['val_loss'], result['val_acc']))\n",
    "        \n",
    "\n",
    "def accuracy(outputs, labels):\n",
    "    _, preds = torch.max(outputs, dim=1)\n",
    "    return torch.tensor(torch.sum(preds == labels).item() / len(preds))\n",
    "\n",
    "def evaluate(model, val_loader):\n",
    "    outputs = [model.validation_step(batch) for batch in val_loader]\n",
    "    return model.validation_epoch_end(outputs)"
   ]
  },
  {
   "cell_type": "code",
   "execution_count": null,
   "metadata": {
    "id": "WgQRiFi7wNYf"
   },
   "outputs": [],
   "source": [
    "!pip install efficientnet_pytorch"
   ]
  },
  {
   "cell_type": "code",
   "execution_count": null,
   "metadata": {
    "colab": {
     "base_uri": "https://localhost:8080/",
     "height": 109
    },
    "executionInfo": {
     "elapsed": 761,
     "status": "ok",
     "timestamp": 1658610326319,
     "user": {
      "displayName": "Anshuman Tekriwal",
      "userId": "12889760788957717284"
     },
     "user_tz": -330
    },
    "id": "-7qL281seWS-",
    "outputId": "f64906d8-8b7f-4d43-9deb-02f166e76f30"
   },
   "outputs": [],
   "source": [
    "from efficientnet_pytorch import EfficientNet\n",
    "\n",
    "class EfficientNetB4(ClassificationBase):\n",
    "    \n",
    "    def __init__(self):\n",
    "        super().__init__()\n",
    "        \n",
    "        self.network = EfficientNet.from_pretrained('efficientnet-b4')\n",
    "        self.network._fc = nn.Linear(1792, n_classes)\n",
    "        \n",
    "    def forward(self, batch):\n",
    "        batch = batch.to(device)\n",
    "        return self.network(batch)\n",
    "        \n",
    "        \n",
    "        \n",
    "model = EfficientNetB4()"
   ]
  },
  {
   "cell_type": "code",
   "execution_count": null,
   "metadata": {
    "executionInfo": {
     "elapsed": 5,
     "status": "ok",
     "timestamp": 1658610326320,
     "user": {
      "displayName": "Anshuman Tekriwal",
      "userId": "12889760788957717284"
     },
     "user_tz": -330
    },
    "id": "rf1lhQTxeZ9x"
   },
   "outputs": [],
   "source": [
    "def fit(epochs, model, train_loader, val_loader, opt_func=torch.optim.Adam):\n",
    "    history = []\n",
    "    optimizer = opt_func(model.parameters(), 1e-4, weight_decay=1e-5)\n",
    "\n",
    "    for epoch in range(epochs):\n",
    "        lrs = []\n",
    "        loss = 0\n",
    "        acc = 0\n",
    "        for batch in tqdm.tqdm(train_loader):\n",
    "            model.train()\n",
    "            loss, acc = model.training_step(batch)\n",
    "            loss.backward()\n",
    "            optimizer.step()\n",
    "            optimizer.zero_grad()\n",
    "        print(\n",
    "            \"Epoch [{}] , loss: {:.4f}, acc: {:.4f}\".format(epoch, loss, acc))\n",
    "        result = evaluate(model, val_loader)\n",
    "        model.epoch_end(epoch, result)\n",
    "        history.append(result)\n",
    "    return history"
   ]
  },
  {
   "cell_type": "code",
   "execution_count": null,
   "metadata": {
    "executionInfo": {
     "elapsed": 1556,
     "status": "ok",
     "timestamp": 1658610327872,
     "user": {
      "displayName": "Anshuman Tekriwal",
      "userId": "12889760788957717284"
     },
     "user_tz": -330
    },
    "id": "DbKEjsk1ehaH"
   },
   "outputs": [],
   "source": [
    "model = model.to(device)"
   ]
  },
  {
   "cell_type": "code",
   "execution_count": null,
   "metadata": {
    "colab": {
     "base_uri": "https://localhost:8080/"
    },
    "executionInfo": {
     "elapsed": 8811,
     "status": "ok",
     "timestamp": 1658614564288,
     "user": {
      "displayName": "Anshuman Tekriwal",
      "userId": "12889760788957717284"
     },
     "user_tz": -330
    },
    "id": "iJIA81Speizm",
    "outputId": "d092c482-13a5-4eef-a24a-de70126c0b46"
   },
   "outputs": [],
   "source": [
    "evaluate(model, test_dataloader)"
   ]
  },
  {
   "cell_type": "code",
   "execution_count": null,
   "metadata": {
    "id": "9fcFyF_9ekJS"
   },
   "outputs": [],
   "source": [
    "import tqdm\n",
    "model.train()\n",
    "history = fit(20, model, train_dataloader, test_dataloader)\n",
    "model.eval()\n",
    "result = evaluate(model, test_dataloader)"
   ]
  },
  {
   "cell_type": "code",
   "execution_count": null,
   "metadata": {
    "id": "kt21QfIx4WGw"
   },
   "outputs": [],
   "source": [
    "result"
   ]
  },
  {
   "cell_type": "code",
   "execution_count": null,
   "metadata": {
    "executionInfo": {
     "elapsed": 415,
     "status": "ok",
     "timestamp": 1658614567670,
     "user": {
      "displayName": "Anshuman Tekriwal",
      "userId": "12889760788957717284"
     },
     "user_tz": -330
    },
    "id": "0b0eDIYQfKF0"
   },
   "outputs": [],
   "source": [
    "torch.save(model.state_dict(), f'./EfficientNetB4-0.9.pth')"
   ]
  },
  {
   "cell_type": "code",
   "execution_count": null,
   "metadata": {
    "colab": {
     "base_uri": "https://localhost:8080/"
    },
    "executionInfo": {
     "elapsed": 64321,
     "status": "ok",
     "timestamp": 1658614436639,
     "user": {
      "displayName": "Anshuman Tekriwal",
      "userId": "12889760788957717284"
     },
     "user_tz": -330
    },
    "id": "PF4-1orakFNY",
    "outputId": "8a37b4fd-0d2b-43a4-aa50-340a7015b9df"
   },
   "outputs": [],
   "source": [
    "model.eval()\n",
    "evaluate(model, test_dataloader)\n",
    "#model.train()"
   ]
  },
  {
   "cell_type": "code",
   "execution_count": null,
   "metadata": {
    "executionInfo": {
     "elapsed": 9,
     "status": "aborted",
     "timestamp": 1658610219109,
     "user": {
      "displayName": "Anshuman Tekriwal",
      "userId": "12889760788957717284"
     },
     "user_tz": -330
    },
    "id": "o7d_3ukwkEuH"
   },
   "outputs": [],
   "source": [
    "losses = []\n",
    "accs = []\n",
    "for i in range(len(history)):\n",
    "  losses.append(history[i]['val_loss'])\n",
    "  accs.append(history[i]['val_acc'])"
   ]
  },
  {
   "cell_type": "code",
   "execution_count": null,
   "metadata": {
    "executionInfo": {
     "elapsed": 9,
     "status": "aborted",
     "timestamp": 1658610219109,
     "user": {
      "displayName": "Anshuman Tekriwal",
      "userId": "12889760788957717284"
     },
     "user_tz": -330
    },
    "id": "FeLrW_ySkJ4a"
   },
   "outputs": [],
   "source": [
    "plt.plot(np.linspace(1, 20, 20).astype(int), accs)"
   ]
  },
  {
   "cell_type": "code",
   "execution_count": null,
   "metadata": {
    "executionInfo": {
     "elapsed": 10,
     "status": "aborted",
     "timestamp": 1658610219110,
     "user": {
      "displayName": "Anshuman Tekriwal",
      "userId": "12889760788957717284"
     },
     "user_tz": -330
    },
    "id": "IFahSaKZkK_K"
   },
   "outputs": [],
   "source": [
    "plt.plot(np.linspace(1, 20, 20).astype(int), losses)"
   ]
  },
  {
   "cell_type": "code",
   "execution_count": null,
   "metadata": {
    "colab": {
     "base_uri": "https://localhost:8080/"
    },
    "executionInfo": {
     "elapsed": 408,
     "status": "ok",
     "timestamp": 1658614618367,
     "user": {
      "displayName": "Anshuman Tekriwal",
      "userId": "12889760788957717284"
     },
     "user_tz": -330
    },
    "id": "Eb-q76ju5pfO",
    "outputId": "d214f057-7925-4d79-edc3-05c7acf368af"
   },
   "outputs": [],
   "source": [
    "model.load_state_dict(torch.load(f'./EfficientNetB4-0.9.pth'))"
   ]
  },
  {
   "cell_type": "code",
   "execution_count": null,
   "metadata": {
    "colab": {
     "base_uri": "https://localhost:8080/",
     "height": 287
    },
    "executionInfo": {
     "elapsed": 723,
     "status": "ok",
     "timestamp": 1658614640029,
     "user": {
      "displayName": "Anshuman Tekriwal",
      "userId": "12889760788957717284"
     },
     "user_tz": -330
    },
    "id": "MAWopsk75uPn",
    "outputId": "1c05328e-4277-4be5-ad4d-206455bc65cb"
   },
   "outputs": [],
   "source": [
    "image = cv2.imread('./Data/0/10_right.jpeg')\n",
    "image = cv2.cvtColor(image, cv2.COLOR_BGR2RGB)\n",
    "image = cv2.resize(image, (400, 400))\n",
    "plt.imshow(image)"
   ]
  },
  {
   "cell_type": "code",
   "execution_count": null,
   "metadata": {
    "executionInfo": {
     "elapsed": 574,
     "status": "ok",
     "timestamp": 1658614644229,
     "user": {
      "displayName": "Anshuman Tekriwal",
      "userId": "12889760788957717284"
     },
     "user_tz": -330
    },
    "id": "r753XG4z6EEb"
   },
   "outputs": [],
   "source": [
    "test_transforms = torchvision.transforms.Compose([\n",
    "    torchvision.transforms.ToTensor(),\n",
    "    torchvision.transforms.Resize((380, 380)),\n",
    "    torchvision.transforms.Normalize([0.485, 0.456, 0.406], [0.229, 0.224, 0.225])])\n",
    "\n",
    "image = test_transforms(image)\n",
    "image = torch.reshape(image, (1, 3, 380, 380))"
   ]
  },
  {
   "cell_type": "code",
   "execution_count": null,
   "metadata": {
    "colab": {
     "base_uri": "https://localhost:8080/",
     "height": 36
    },
    "executionInfo": {
     "elapsed": 415,
     "status": "ok",
     "timestamp": 1658614649571,
     "user": {
      "displayName": "Anshuman Tekriwal",
      "userId": "12889760788957717284"
     },
     "user_tz": -330
    },
    "id": "RQT-ub1m6TKO",
    "outputId": "132d1cdd-4d95-4835-a36d-5be4c925b25a"
   },
   "outputs": [],
   "source": [
    "model.eval()\n",
    "pred2label[np.argmax(model(image).cpu().detach().numpy())]"
   ]
  },
  {
   "cell_type": "code",
   "execution_count": null,
   "metadata": {
    "id": "hTBRMJuiHkFy"
   },
   "outputs": [],
   "source": []
  }
 ],
 "metadata": {
  "accelerator": "GPU",
  "colab": {
   "authorship_tag": "ABX9TyPEo6nDJhuWN5BKdWXyGwR1",
   "collapsed_sections": [],
   "machine_shape": "hm",
   "name": "blindness-detection.ipynb",
   "provenance": []
  },
  "gpuClass": "standard",
  "kernelspec": {
   "display_name": "data-science",
   "language": "python",
   "name": "data-science"
  },
  "language_info": {
   "codemirror_mode": {
    "name": "ipython",
    "version": 3
   },
   "file_extension": ".py",
   "mimetype": "text/x-python",
   "name": "python",
   "nbconvert_exporter": "python",
   "pygments_lexer": "ipython3",
   "version": "3.9.13"
  },
  "widgets": {
   "application/vnd.jupyter.widget-state+json": {
    "state": {},
    "version_major": 2,
    "version_minor": 0
   }
  }
 },
 "nbformat": 4,
 "nbformat_minor": 4
}
